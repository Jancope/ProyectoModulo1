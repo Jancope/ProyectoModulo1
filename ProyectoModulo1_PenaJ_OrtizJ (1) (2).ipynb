{
 "cells": [
  {
   "cell_type": "markdown",
   "metadata": {},
   "source": [
    "<img style=\"float: left; margin: 30px 15px 15px 15px;\" src=\"https://pngimage.net/wp-content/uploads/2018/06/logo-iteso-png-5.png\" width=\"300\" height=\"500\" /> \n",
    "    \n",
    "    \n",
    "## <font color='navy'> SIMULACIÓN DE PROCESOS FINANCIEROS   \n",
    "\n",
    "**Nombres:** \n",
    "José Antonio Contreras Peña y Jesús Sebastian Gonzalez Ortiz \n",
    "\n",
    "**Fecha:** 14 de octubre del 2021.\n",
    "\n",
    "**Expediente** : 721860 y 721621.\n",
    "\n",
    "**Profesor:** Oscar David Jaramillo Zuluaga.\n",
    "\n",
    "**Enlace Github:** https://github.com/Jancope/ProyectoModulo1\n",
    "\n",
    "## Definición de Proyecto  Clase: 12"
   ]
  },
  {
   "cell_type": "markdown",
   "metadata": {},
   "source": [
    "# Tema: *Simulación de ventas de Rappi*"
   ]
  },
  {
   "cell_type": "markdown",
   "metadata": {},
   "source": [
    "### Objetivos\n",
    "\n",
    "   ### 1.1 Objetivo general\n",
    "   - Analizar y determinar la disposición de pago de clientes por envío.\n",
    "    \n",
    "   ### 1.2 Objetivos específicos\n",
    "   - Determinar la relación sobre cuánto la gente gasta en envíos en base a lo que gasta en sus pedidos.\n",
    "   - Encontrar las categorías donde la gente gasta más en envíos.\n",
    "   - Encontrar rangos de gasto promedio por pedido.\n",
    "   - "
   ]
  },
  {
   "cell_type": "markdown",
   "metadata": {},
   "source": [
    "### Definición del problema\n",
    "\n",
    "<img style=\"float: right; margin: 10px 10px 15px 15px;\" src=\"https://fotos.perfil.com/2020/08/20/trim/1280/720/polemica-sobre-la-refinanciacion-de-las-tarjetas-de-credito-1004338.jpg\" width=\"350px\" height=\"700px\" />\n",
    "\n",
    "\n",
    "\n"
   ]
  },
  {
   "cell_type": "markdown",
   "metadata": {},
   "source": [
    "### Nodos\n",
    "- Simular el nivel de respuesta ante el pago de créditos dados a los usuarios de tarjetas de crédito.\n",
    "\n",
    "### Variables\n",
    "- Las variables más importantes para la recaudación de datos y se van a tomar en cuenta son: Annual income, Income category, Property y Education level. "
   ]
  },
  {
   "cell_type": "markdown",
   "metadata": {},
   "source": [
    "### Hipótesis y suspuestos\n",
    "- Los usuarios que sean aceptados a la aplicación van a cumplir con el pago del crédito otorgado.\n",
    "- Suponer que los datos se van a mantener estáticos en el proceso de aplicación de la tarjeta"
   ]
  },
  {
   "cell_type": "markdown",
   "metadata": {},
   "source": [
    "### Obtención de base de datos\n",
    "\n",
    "https://www.kaggle.com/alexbonella/sales-simulation-at-rappi"
   ]
  },
  {
   "cell_type": "code",
   "execution_count": 1,
   "metadata": {},
   "outputs": [],
   "source": [
    "import numpy as np\n",
    "import matplotlib.pyplot as plt\n",
    "from itertools import cycle  # Librería para hacer ciclos\n",
    "import matplotlib.pyplot as plt\n",
    "import scipy.stats as st     # Librería estadística\n",
    "import pandas as pd\n",
    "\n",
    "from sklearn.neighbors import KernelDensity\n",
    "from scipy.stats import gaussian_kde\n",
    "from statsmodels.nonparametric.kde import KDEUnivariate\n",
    "from statsmodels.nonparametric.kernel_density import KDEMultivariate\n",
    "import warnings\n",
    "import statsmodels as sm \n",
    "import matplotlib \n",
    "from scipy.stats import loglaplace \n",
    "from scipy.stats.distributions import norm \n",
    "from sklearn.model_selection import GridSearchCV"
   ]
  },
  {
   "cell_type": "code",
   "execution_count": 2,
   "metadata": {},
   "outputs": [
    {
     "data": {
      "text/html": [
       "<div>\n",
       "<style scoped>\n",
       "    .dataframe tbody tr th:only-of-type {\n",
       "        vertical-align: middle;\n",
       "    }\n",
       "\n",
       "    .dataframe tbody tr th {\n",
       "        vertical-align: top;\n",
       "    }\n",
       "\n",
       "    .dataframe thead th {\n",
       "        text-align: right;\n",
       "    }\n",
       "</style>\n",
       "<table border=\"1\" class=\"dataframe\">\n",
       "  <thead>\n",
       "    <tr style=\"text-align: right;\">\n",
       "      <th></th>\n",
       "      <th>Unnamed: 0</th>\n",
       "      <th>purchase_ID</th>\n",
       "      <th>Date at created</th>\n",
       "      <th>Category</th>\n",
       "      <th>Name</th>\n",
       "      <th>Purchase Price</th>\n",
       "      <th>Delivery Price</th>\n",
       "      <th>Total</th>\n",
       "    </tr>\n",
       "  </thead>\n",
       "  <tbody>\n",
       "    <tr>\n",
       "      <th>0</th>\n",
       "      <td>0</td>\n",
       "      <td>1</td>\n",
       "      <td>21-10-2020 14:42:55.373979</td>\n",
       "      <td>Saludable · Desayunos</td>\n",
       "      <td>Distrito Gourmet</td>\n",
       "      <td>10700</td>\n",
       "      <td>3700</td>\n",
       "      <td>14400</td>\n",
       "    </tr>\n",
       "    <tr>\n",
       "      <th>1</th>\n",
       "      <td>1</td>\n",
       "      <td>2</td>\n",
       "      <td>21-10-2020 14:42:55.483563</td>\n",
       "      <td>Postres</td>\n",
       "      <td>Toledo Pastelería</td>\n",
       "      <td>53900</td>\n",
       "      <td>6800</td>\n",
       "      <td>60700</td>\n",
       "    </tr>\n",
       "    <tr>\n",
       "      <th>2</th>\n",
       "      <td>2</td>\n",
       "      <td>3</td>\n",
       "      <td>21-10-2020 14:42:55.739536</td>\n",
       "      <td>Postres · Helados</td>\n",
       "      <td>Mahé</td>\n",
       "      <td>7500</td>\n",
       "      <td>6000</td>\n",
       "      <td>13500</td>\n",
       "    </tr>\n",
       "    <tr>\n",
       "      <th>3</th>\n",
       "      <td>3</td>\n",
       "      <td>4</td>\n",
       "      <td>21-10-2020 14:42:55.945560</td>\n",
       "      <td>Hamburguesas · Saludable</td>\n",
       "      <td>Restaurant Inn</td>\n",
       "      <td>23000</td>\n",
       "      <td>6100</td>\n",
       "      <td>29100</td>\n",
       "    </tr>\n",
       "    <tr>\n",
       "      <th>4</th>\n",
       "      <td>4</td>\n",
       "      <td>5</td>\n",
       "      <td>21-10-2020 14:42:56.201561</td>\n",
       "      <td>Postres · Desayunos</td>\n",
       "      <td>Maria Luisa - Postres</td>\n",
       "      <td>9000</td>\n",
       "      <td>4300</td>\n",
       "      <td>13300</td>\n",
       "    </tr>\n",
       "  </tbody>\n",
       "</table>\n",
       "</div>"
      ],
      "text/plain": [
       "   Unnamed: 0  purchase_ID             Date at created  \\\n",
       "0           0            1  21-10-2020 14:42:55.373979   \n",
       "1           1            2  21-10-2020 14:42:55.483563   \n",
       "2           2            3  21-10-2020 14:42:55.739536   \n",
       "3           3            4  21-10-2020 14:42:55.945560   \n",
       "4           4            5  21-10-2020 14:42:56.201561   \n",
       "\n",
       "                   Category                   Name  Purchase Price  \\\n",
       "0     Saludable · Desayunos       Distrito Gourmet           10700   \n",
       "1                   Postres      Toledo Pastelería           53900   \n",
       "2         Postres · Helados                   Mahé            7500   \n",
       "3  Hamburguesas · Saludable         Restaurant Inn           23000   \n",
       "4       Postres · Desayunos  Maria Luisa - Postres            9000   \n",
       "\n",
       "   Delivery Price  Total  \n",
       "0            3700  14400  \n",
       "1            6800  60700  \n",
       "2            6000  13500  \n",
       "3            6100  29100  \n",
       "4            4300  13300  "
      ]
     },
     "execution_count": 2,
     "metadata": {},
     "output_type": "execute_result"
    }
   ],
   "source": [
    "import pandas as pd\n",
    "#dataCP = pd.read_excel('..\\DefinicionProyectoConjunto_ESalazar_MJMacias\\Casos_positivos_COVID-19.xlsx')\n",
    "dataCP = pd.read_csv('Sales_simulation.csv')\n",
    "dataCP.head()"
   ]
  },
  {
   "cell_type": "code",
   "execution_count": null,
   "metadata": {},
   "outputs": [],
   "source": []
  }
 ],
 "metadata": {
  "kernelspec": {
   "display_name": "Python 3",
   "language": "python",
   "name": "python3"
  },
  "language_info": {
   "codemirror_mode": {
    "name": "ipython",
    "version": 3
   },
   "file_extension": ".py",
   "mimetype": "text/x-python",
   "name": "python",
   "nbconvert_exporter": "python",
   "pygments_lexer": "ipython3",
   "version": "3.7.3"
  }
 },
 "nbformat": 4,
 "nbformat_minor": 2
}
