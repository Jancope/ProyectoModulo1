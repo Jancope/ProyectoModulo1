{
 "cells": [
  {
   "cell_type": "markdown",
   "metadata": {},
   "source": [
    "<img style=\"float: left; margin: 30px 15px 15px 15px;\" src=\"https://pngimage.net/wp-content/uploads/2018/06/logo-iteso-png-5.png\" width=\"300\" height=\"500\" /> \n",
    "    \n",
    "    \n",
    "## <font color='navy'> SIMULACIÓN DE PROCESOS FINANCIEROS   \n",
    "\n",
    "**Nombres:** \n",
    "José Antonio Contreras Peña y Jesús Sebastian Gonzalez Ortiz \n",
    "\n",
    "**Fecha:** 14 de octubre del 2021.\n",
    "\n",
    "**Expediente** : 721860 y 721621.\n",
    "\n",
    "**Profesor:** Oscar David Jaramillo Zuluaga.\n",
    "\n",
    "**Enlace Github:** https://github.com/Jancope/ProyectoModulo1\n",
    "\n",
    "## Definición de Proyecto  Clase: 12"
   ]
  },
  {
   "cell_type": "markdown",
   "metadata": {},
   "source": [
    "# Tema: *Simulación de ventas de Rappi*"
   ]
  },
  {
   "cell_type": "markdown",
   "metadata": {},
   "source": [
    "### Objetivos\n",
    "\n",
    "   ### 1.1 Objetivo general\n",
    "   - Analizar y determinar la disposición de pago de clientes por pedido.\n",
    "    \n",
    "   ### 1.2 Objetivos específicos\n",
    "   - Determinar la relación sobre cuánto la gente gasta en envíos en base a lo que gasta en sus pedidos.\n",
    "   - Proyectar la categoría de pedidos más popular de la plataforma.\n",
    "   - Encontrar rangos de gasto total promedio por pedido.\n",
    "   - Determinar la cantidad de pago por tarifa de entrega que hacen los usuarios."
   ]
  },
  {
   "cell_type": "markdown",
   "metadata": {},
   "source": [
    "### Definición del problema\n",
    "\n",
    "<img style=\"float: right; margin: 10px 10px 15px 15px;\" src=\"data:image/png;base64,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\" height=\"700px\" />\n",
    "\n",
    "Las empresas que ofrecen el servicio a domicilio han ido en auge tomando cada vez más importancia dentro de la sociedad, desde favores y encargos hasta el servicio a domicilio de alimentos, Rappi es uno de los grandes exponentes de esta industria y ha asentado bases dentro de la sociedad que hasta el día de hoy su aplicación se ha vuelto indispensable para muchas personas. \n",
    "\n",
    "Uno de los grandes problemas de pueden afrontar dichas empresas son sus tarifas de entrega que, además del precio de la compra o favor que se encarga, es un costo extra que los clientes tienen muy presentes y pueden ser lo que define si un cliente hace el encargo o no.\n",
    "\n",
    "Para la investigación se debe tener en cuenta que los datos recopilados son de Bogotá, Colombia y están enfocados en el servicio a domicilio de alimentos en este caso. Se sabe Rappi no es la única aplicación de servicios a domicilio en el mercado, es una de las principales, pero siempre que haya una mejor oferta o una menor tarifa de entrega por el mismo producto en otra aplicación, obviamente significaría que no usarán Rappi.\n",
    "\n",
    "Para determinar las preferencias de cantidad de pagos por envío se tendrán en cuenta como variables el precio del pedido, costo del pedido, categoría del pedido y la relación precio-costo de envío que tienen los pedidos para tener unas simulaciones representativas del contexto.\n"
   ]
  },
  {
   "cell_type": "markdown",
   "metadata": {},
   "source": [
    "### Nodos\n",
    "   - Determinar la relación sobre cuánto la gente gasta en envíos en base a lo que gasta en sus pedidos. Con esto se sabrá lo que la gente está dispuesta a pagar de envío dependiendo del costo de su pedido.\n",
    "   - Encontrar las categorías donde la gente gasta más en envíos. Con esto se podrá determinar de entre tantas categorías de comida que ofrece el servicio, cúal es la más popular.\n",
    "   - Encontrar rangos de gasto promedio por envío. Esto permite saber un aproximado de lo que la gente esta dispuesta a pagar por envío y la frecuencia con que se paga esa cantidad de envío.\n",
    "   - Encontrar los rangos de costo total del pedido para determinar el promedio de gasto que tienen las personas al hacer un encargo.\n",
    "\n",
    "### Variables\n",
    " - Tipo de comercio\n",
    " - Gasto de envío\n",
    " - Total Gastado\n",
    " - Porcentaje de gasto de envió de la compra\n",
    "\n",
    "En el tipo de comercio se encuentran las categorías de alimentos que se encuentran dentro de la aplicación.\n",
    "\n",
    "El gasto de envío es el precio total de la gente que pagó exclusivamente por la tarifa de entrega de su pedido.\n",
    "\n",
    "Total gastado es la suma del precio de su pedido y de la tarifa de entrega, p sea, el total a pagar del cliente por su consumo y servicio de la aplicación.\n",
    "\n",
    "El porcentaje de gasto de envío de la compra representa la cantidad en porcentaje que el usuario pagó de envío respecto al total de su compra.\n",
    "\n",
    "### Hipótesis:\n",
    " - Habrá más volumen de pedidos si la tarifa de entrega es más barata que el promedio.\n",
    " - Las personas están dispuestas a pagar más de tarifa envío si la compra es mas grande.\n",
    " \n",
    "### Supuestos:\n",
    " - La información obtenida es de la aplicación de servicios a domicilio y encargos de Rappi.\n",
    " - La información recopilada fue en el transcurso de 2 horas en la ciudad de Bogotá, Colombia. Por lo que la moneda que se maneja dentro del proyecto son pesos colombianos. (1 MXN ≈ 190 COP)\n",
    " - Las variables selectas son las que nos ayudarán a comprender mejor la situación."
   ]
  },
  {
   "cell_type": "markdown",
   "metadata": {},
   "source": [
    "### Obtención de base de datos\n",
    "\n",
    "https://www.kaggle.com/alexbonella/sales-simulation-at-rappi"
   ]
  },
  {
   "cell_type": "code",
   "execution_count": 1,
   "metadata": {},
   "outputs": [],
   "source": [
    "# Librerías\n",
    "import numpy as np\n",
    "import matplotlib.pyplot as plt\n",
    "from itertools import cycle  \n",
    "import matplotlib.pyplot as plt\n",
    "import scipy.stats as st     \n",
    "import pandas as pd\n",
    "from sklearn.neighbors import KernelDensity\n",
    "from scipy.stats import gaussian_kde\n",
    "from statsmodels.nonparametric.kde import KDEUnivariate\n",
    "from statsmodels.nonparametric.kernel_density import KDEMultivariate\n",
    "import warnings\n",
    "import statsmodels as sm \n",
    "import matplotlib \n",
    "from scipy.stats import loglaplace \n",
    "from scipy.stats.distributions import norm \n",
    "from sklearn.model_selection import GridSearchCV\n",
    "from statistics import mode\n",
    "from statistics import mean\n",
    "import statistics\n"
   ]
  },
  {
   "cell_type": "markdown",
   "metadata": {},
   "source": [
    "### Base de datos"
   ]
  },
  {
   "cell_type": "code",
   "execution_count": 2,
   "metadata": {},
   "outputs": [
    {
     "data": {
      "text/html": [
       "<div>\n",
       "<style scoped>\n",
       "    .dataframe tbody tr th:only-of-type {\n",
       "        vertical-align: middle;\n",
       "    }\n",
       "\n",
       "    .dataframe tbody tr th {\n",
       "        vertical-align: top;\n",
       "    }\n",
       "\n",
       "    .dataframe thead th {\n",
       "        text-align: right;\n",
       "    }\n",
       "</style>\n",
       "<table border=\"1\" class=\"dataframe\">\n",
       "  <thead>\n",
       "    <tr style=\"text-align: right;\">\n",
       "      <th></th>\n",
       "      <th>Unnamed: 0</th>\n",
       "      <th>purchase_ID</th>\n",
       "      <th>Date at created</th>\n",
       "      <th>Category</th>\n",
       "      <th>Name</th>\n",
       "      <th>Purchase Price</th>\n",
       "      <th>Delivery Price</th>\n",
       "      <th>Total</th>\n",
       "    </tr>\n",
       "  </thead>\n",
       "  <tbody>\n",
       "    <tr>\n",
       "      <th>0</th>\n",
       "      <td>0</td>\n",
       "      <td>1</td>\n",
       "      <td>21-10-2020 14:42:55.373979</td>\n",
       "      <td>Saludable · Desayunos</td>\n",
       "      <td>Distrito Gourmet</td>\n",
       "      <td>10700</td>\n",
       "      <td>3700</td>\n",
       "      <td>14400</td>\n",
       "    </tr>\n",
       "    <tr>\n",
       "      <th>1</th>\n",
       "      <td>1</td>\n",
       "      <td>2</td>\n",
       "      <td>21-10-2020 14:42:55.483563</td>\n",
       "      <td>Postres</td>\n",
       "      <td>Toledo Pastelería</td>\n",
       "      <td>53900</td>\n",
       "      <td>6800</td>\n",
       "      <td>60700</td>\n",
       "    </tr>\n",
       "    <tr>\n",
       "      <th>2</th>\n",
       "      <td>2</td>\n",
       "      <td>3</td>\n",
       "      <td>21-10-2020 14:42:55.739536</td>\n",
       "      <td>Postres · Helados</td>\n",
       "      <td>Mahé</td>\n",
       "      <td>7500</td>\n",
       "      <td>6000</td>\n",
       "      <td>13500</td>\n",
       "    </tr>\n",
       "    <tr>\n",
       "      <th>3</th>\n",
       "      <td>3</td>\n",
       "      <td>4</td>\n",
       "      <td>21-10-2020 14:42:55.945560</td>\n",
       "      <td>Hamburguesas · Saludable</td>\n",
       "      <td>Restaurant Inn</td>\n",
       "      <td>23000</td>\n",
       "      <td>6100</td>\n",
       "      <td>29100</td>\n",
       "    </tr>\n",
       "    <tr>\n",
       "      <th>4</th>\n",
       "      <td>4</td>\n",
       "      <td>5</td>\n",
       "      <td>21-10-2020 14:42:56.201561</td>\n",
       "      <td>Postres · Desayunos</td>\n",
       "      <td>Maria Luisa - Postres</td>\n",
       "      <td>9000</td>\n",
       "      <td>4300</td>\n",
       "      <td>13300</td>\n",
       "    </tr>\n",
       "  </tbody>\n",
       "</table>\n",
       "</div>"
      ],
      "text/plain": [
       "   Unnamed: 0  purchase_ID             Date at created  \\\n",
       "0           0            1  21-10-2020 14:42:55.373979   \n",
       "1           1            2  21-10-2020 14:42:55.483563   \n",
       "2           2            3  21-10-2020 14:42:55.739536   \n",
       "3           3            4  21-10-2020 14:42:55.945560   \n",
       "4           4            5  21-10-2020 14:42:56.201561   \n",
       "\n",
       "                   Category                   Name  Purchase Price  \\\n",
       "0     Saludable · Desayunos       Distrito Gourmet           10700   \n",
       "1                   Postres      Toledo Pastelería           53900   \n",
       "2         Postres · Helados                   Mahé            7500   \n",
       "3  Hamburguesas · Saludable         Restaurant Inn           23000   \n",
       "4       Postres · Desayunos  Maria Luisa - Postres            9000   \n",
       "\n",
       "   Delivery Price  Total  \n",
       "0            3700  14400  \n",
       "1            6800  60700  \n",
       "2            6000  13500  \n",
       "3            6100  29100  \n",
       "4            4300  13300  "
      ]
     },
     "execution_count": 2,
     "metadata": {},
     "output_type": "execute_result"
    }
   ],
   "source": [
    "data = pd.read_csv('Sales_simulation.csv')\n",
    "data.head()"
   ]
  },
  {
   "cell_type": "code",
   "execution_count": 3,
   "metadata": {
    "scrolled": false
   },
   "outputs": [
    {
     "data": {
      "text/html": [
       "<div>\n",
       "<style scoped>\n",
       "    .dataframe tbody tr th:only-of-type {\n",
       "        vertical-align: middle;\n",
       "    }\n",
       "\n",
       "    .dataframe tbody tr th {\n",
       "        vertical-align: top;\n",
       "    }\n",
       "\n",
       "    .dataframe thead th {\n",
       "        text-align: right;\n",
       "    }\n",
       "</style>\n",
       "<table border=\"1\" class=\"dataframe\">\n",
       "  <thead>\n",
       "    <tr style=\"text-align: right;\">\n",
       "      <th></th>\n",
       "      <th>Category</th>\n",
       "      <th>Purchase Price</th>\n",
       "      <th>Delivery Price</th>\n",
       "      <th>Total</th>\n",
       "    </tr>\n",
       "  </thead>\n",
       "  <tbody>\n",
       "    <tr>\n",
       "      <th>0</th>\n",
       "      <td>Saludable · Desayunos</td>\n",
       "      <td>10700</td>\n",
       "      <td>3700</td>\n",
       "      <td>14400</td>\n",
       "    </tr>\n",
       "    <tr>\n",
       "      <th>1</th>\n",
       "      <td>Postres</td>\n",
       "      <td>53900</td>\n",
       "      <td>6800</td>\n",
       "      <td>60700</td>\n",
       "    </tr>\n",
       "    <tr>\n",
       "      <th>2</th>\n",
       "      <td>Postres · Helados</td>\n",
       "      <td>7500</td>\n",
       "      <td>6000</td>\n",
       "      <td>13500</td>\n",
       "    </tr>\n",
       "    <tr>\n",
       "      <th>3</th>\n",
       "      <td>Hamburguesas · Saludable</td>\n",
       "      <td>23000</td>\n",
       "      <td>6100</td>\n",
       "      <td>29100</td>\n",
       "    </tr>\n",
       "    <tr>\n",
       "      <th>4</th>\n",
       "      <td>Postres · Desayunos</td>\n",
       "      <td>9000</td>\n",
       "      <td>4300</td>\n",
       "      <td>13300</td>\n",
       "    </tr>\n",
       "  </tbody>\n",
       "</table>\n",
       "</div>"
      ],
      "text/plain": [
       "                   Category  Purchase Price  Delivery Price  Total\n",
       "0     Saludable · Desayunos           10700            3700  14400\n",
       "1                   Postres           53900            6800  60700\n",
       "2         Postres · Helados            7500            6000  13500\n",
       "3  Hamburguesas · Saludable           23000            6100  29100\n",
       "4       Postres · Desayunos            9000            4300  13300"
      ]
     },
     "execution_count": 3,
     "metadata": {},
     "output_type": "execute_result"
    }
   ],
   "source": [
    "data = data.drop([\"Unnamed: 0\"], axis=1)\n",
    "data = data.drop([\"purchase_ID\"], axis=1)\n",
    "data = data.drop([\"Date at created\"], axis=1)\n",
    "data = data.drop([\"Name\"], axis=1)\n",
    "data.head()"
   ]
  },
  {
   "cell_type": "markdown",
   "metadata": {},
   "source": [
    "Se eliminaron columnas de datos basura de la base de datos."
   ]
  },
  {
   "cell_type": "code",
   "execution_count": 4,
   "metadata": {
    "scrolled": true
   },
   "outputs": [
    {
     "data": {
      "text/html": [
       "<div>\n",
       "<style scoped>\n",
       "    .dataframe tbody tr th:only-of-type {\n",
       "        vertical-align: middle;\n",
       "    }\n",
       "\n",
       "    .dataframe tbody tr th {\n",
       "        vertical-align: top;\n",
       "    }\n",
       "\n",
       "    .dataframe thead th {\n",
       "        text-align: right;\n",
       "    }\n",
       "</style>\n",
       "<table border=\"1\" class=\"dataframe\">\n",
       "  <thead>\n",
       "    <tr style=\"text-align: right;\">\n",
       "      <th></th>\n",
       "      <th>Category</th>\n",
       "      <th>Purchase Price</th>\n",
       "      <th>Delivery Price</th>\n",
       "      <th>Total</th>\n",
       "      <th>Porcentaje</th>\n",
       "    </tr>\n",
       "  </thead>\n",
       "  <tbody>\n",
       "    <tr>\n",
       "      <th>0</th>\n",
       "      <td>Saludable · Desayunos</td>\n",
       "      <td>10700</td>\n",
       "      <td>3700</td>\n",
       "      <td>14400</td>\n",
       "      <td>25.694444</td>\n",
       "    </tr>\n",
       "    <tr>\n",
       "      <th>1</th>\n",
       "      <td>Postres</td>\n",
       "      <td>53900</td>\n",
       "      <td>6800</td>\n",
       "      <td>60700</td>\n",
       "      <td>11.202636</td>\n",
       "    </tr>\n",
       "    <tr>\n",
       "      <th>2</th>\n",
       "      <td>Postres · Helados</td>\n",
       "      <td>7500</td>\n",
       "      <td>6000</td>\n",
       "      <td>13500</td>\n",
       "      <td>44.444444</td>\n",
       "    </tr>\n",
       "    <tr>\n",
       "      <th>3</th>\n",
       "      <td>Hamburguesas · Saludable</td>\n",
       "      <td>23000</td>\n",
       "      <td>6100</td>\n",
       "      <td>29100</td>\n",
       "      <td>20.962199</td>\n",
       "    </tr>\n",
       "    <tr>\n",
       "      <th>4</th>\n",
       "      <td>Postres · Desayunos</td>\n",
       "      <td>9000</td>\n",
       "      <td>4300</td>\n",
       "      <td>13300</td>\n",
       "      <td>32.330827</td>\n",
       "    </tr>\n",
       "    <tr>\n",
       "      <th>5</th>\n",
       "      <td>Pollo · China</td>\n",
       "      <td>24200</td>\n",
       "      <td>3500</td>\n",
       "      <td>27700</td>\n",
       "      <td>12.635379</td>\n",
       "    </tr>\n",
       "    <tr>\n",
       "      <th>6</th>\n",
       "      <td>Desayunos</td>\n",
       "      <td>24300</td>\n",
       "      <td>4400</td>\n",
       "      <td>28700</td>\n",
       "      <td>15.331010</td>\n",
       "    </tr>\n",
       "    <tr>\n",
       "      <th>7</th>\n",
       "      <td>Sushi · Asiática</td>\n",
       "      <td>45800</td>\n",
       "      <td>6400</td>\n",
       "      <td>52200</td>\n",
       "      <td>12.260536</td>\n",
       "    </tr>\n",
       "    <tr>\n",
       "      <th>8</th>\n",
       "      <td>Desayunos · Café</td>\n",
       "      <td>37900</td>\n",
       "      <td>4700</td>\n",
       "      <td>42600</td>\n",
       "      <td>11.032864</td>\n",
       "    </tr>\n",
       "    <tr>\n",
       "      <th>9</th>\n",
       "      <td>Postres · Desayunos</td>\n",
       "      <td>8900</td>\n",
       "      <td>6400</td>\n",
       "      <td>15300</td>\n",
       "      <td>41.830065</td>\n",
       "    </tr>\n",
       "    <tr>\n",
       "      <th>10</th>\n",
       "      <td>Desayunos · Pescados y Mariscos</td>\n",
       "      <td>11870</td>\n",
       "      <td>5700</td>\n",
       "      <td>17570</td>\n",
       "      <td>32.441662</td>\n",
       "    </tr>\n",
       "    <tr>\n",
       "      <th>11</th>\n",
       "      <td>Postres · Desayunos</td>\n",
       "      <td>12500</td>\n",
       "      <td>3300</td>\n",
       "      <td>15800</td>\n",
       "      <td>20.886076</td>\n",
       "    </tr>\n",
       "    <tr>\n",
       "      <th>12</th>\n",
       "      <td>Hamburguesas</td>\n",
       "      <td>10700</td>\n",
       "      <td>5800</td>\n",
       "      <td>16500</td>\n",
       "      <td>35.151515</td>\n",
       "    </tr>\n",
       "    <tr>\n",
       "      <th>13</th>\n",
       "      <td>Saludable</td>\n",
       "      <td>24300</td>\n",
       "      <td>3700</td>\n",
       "      <td>28000</td>\n",
       "      <td>13.214286</td>\n",
       "    </tr>\n",
       "    <tr>\n",
       "      <th>14</th>\n",
       "      <td>Saludable · Desayunos</td>\n",
       "      <td>8900</td>\n",
       "      <td>6000</td>\n",
       "      <td>14900</td>\n",
       "      <td>40.268456</td>\n",
       "    </tr>\n",
       "    <tr>\n",
       "      <th>15</th>\n",
       "      <td>Pizza</td>\n",
       "      <td>37900</td>\n",
       "      <td>4300</td>\n",
       "      <td>42200</td>\n",
       "      <td>10.189573</td>\n",
       "    </tr>\n",
       "    <tr>\n",
       "      <th>16</th>\n",
       "      <td>Saludable · Desayunos</td>\n",
       "      <td>39700</td>\n",
       "      <td>4700</td>\n",
       "      <td>44400</td>\n",
       "      <td>10.585586</td>\n",
       "    </tr>\n",
       "    <tr>\n",
       "      <th>17</th>\n",
       "      <td>Típica</td>\n",
       "      <td>13600</td>\n",
       "      <td>5900</td>\n",
       "      <td>19500</td>\n",
       "      <td>30.256410</td>\n",
       "    </tr>\n",
       "    <tr>\n",
       "      <th>18</th>\n",
       "      <td>Pollo · Sánduches</td>\n",
       "      <td>13000</td>\n",
       "      <td>3000</td>\n",
       "      <td>16000</td>\n",
       "      <td>18.750000</td>\n",
       "    </tr>\n",
       "    <tr>\n",
       "      <th>19</th>\n",
       "      <td>Helados</td>\n",
       "      <td>8900</td>\n",
       "      <td>6800</td>\n",
       "      <td>15700</td>\n",
       "      <td>43.312102</td>\n",
       "    </tr>\n",
       "    <tr>\n",
       "      <th>20</th>\n",
       "      <td>Desayunos · Café</td>\n",
       "      <td>13600</td>\n",
       "      <td>4700</td>\n",
       "      <td>18300</td>\n",
       "      <td>25.683060</td>\n",
       "    </tr>\n",
       "    <tr>\n",
       "      <th>21</th>\n",
       "      <td>Pizza · Parrilla</td>\n",
       "      <td>39700</td>\n",
       "      <td>4000</td>\n",
       "      <td>43700</td>\n",
       "      <td>9.153318</td>\n",
       "    </tr>\n",
       "    <tr>\n",
       "      <th>22</th>\n",
       "      <td>Pollo · Saludable</td>\n",
       "      <td>24200</td>\n",
       "      <td>6500</td>\n",
       "      <td>30700</td>\n",
       "      <td>21.172638</td>\n",
       "    </tr>\n",
       "    <tr>\n",
       "      <th>23</th>\n",
       "      <td>Mexicana</td>\n",
       "      <td>29500</td>\n",
       "      <td>4300</td>\n",
       "      <td>33800</td>\n",
       "      <td>12.721893</td>\n",
       "    </tr>\n",
       "    <tr>\n",
       "      <th>24</th>\n",
       "      <td>Postres · Desayunos</td>\n",
       "      <td>35000</td>\n",
       "      <td>5900</td>\n",
       "      <td>40900</td>\n",
       "      <td>14.425428</td>\n",
       "    </tr>\n",
       "    <tr>\n",
       "      <th>25</th>\n",
       "      <td>Saludable · Desayunos</td>\n",
       "      <td>39700</td>\n",
       "      <td>5900</td>\n",
       "      <td>45600</td>\n",
       "      <td>12.938596</td>\n",
       "    </tr>\n",
       "    <tr>\n",
       "      <th>26</th>\n",
       "      <td>Desayunos · Café</td>\n",
       "      <td>15600</td>\n",
       "      <td>6200</td>\n",
       "      <td>21800</td>\n",
       "      <td>28.440367</td>\n",
       "    </tr>\n",
       "    <tr>\n",
       "      <th>27</th>\n",
       "      <td>Postres · Desayunos</td>\n",
       "      <td>12500</td>\n",
       "      <td>6400</td>\n",
       "      <td>18900</td>\n",
       "      <td>33.862434</td>\n",
       "    </tr>\n",
       "    <tr>\n",
       "      <th>28</th>\n",
       "      <td>Sushi</td>\n",
       "      <td>11870</td>\n",
       "      <td>5400</td>\n",
       "      <td>17270</td>\n",
       "      <td>31.268095</td>\n",
       "    </tr>\n",
       "    <tr>\n",
       "      <th>29</th>\n",
       "      <td>Saludable · Típica</td>\n",
       "      <td>24300</td>\n",
       "      <td>3100</td>\n",
       "      <td>27400</td>\n",
       "      <td>11.313869</td>\n",
       "    </tr>\n",
       "    <tr>\n",
       "      <th>...</th>\n",
       "      <td>...</td>\n",
       "      <td>...</td>\n",
       "      <td>...</td>\n",
       "      <td>...</td>\n",
       "      <td>...</td>\n",
       "    </tr>\n",
       "    <tr>\n",
       "      <th>23200</th>\n",
       "      <td>Pollo · Desayunos</td>\n",
       "      <td>13600</td>\n",
       "      <td>3600</td>\n",
       "      <td>17200</td>\n",
       "      <td>20.930233</td>\n",
       "    </tr>\n",
       "    <tr>\n",
       "      <th>23201</th>\n",
       "      <td>Pizza · Italiana</td>\n",
       "      <td>12500</td>\n",
       "      <td>6600</td>\n",
       "      <td>19100</td>\n",
       "      <td>34.554974</td>\n",
       "    </tr>\n",
       "    <tr>\n",
       "      <th>23202</th>\n",
       "      <td>Desayunos · Café</td>\n",
       "      <td>65000</td>\n",
       "      <td>4600</td>\n",
       "      <td>69600</td>\n",
       "      <td>6.609195</td>\n",
       "    </tr>\n",
       "    <tr>\n",
       "      <th>23203</th>\n",
       "      <td>Mexicana</td>\n",
       "      <td>23000</td>\n",
       "      <td>3200</td>\n",
       "      <td>26200</td>\n",
       "      <td>12.213740</td>\n",
       "    </tr>\n",
       "    <tr>\n",
       "      <th>23204</th>\n",
       "      <td>Helados</td>\n",
       "      <td>13000</td>\n",
       "      <td>4400</td>\n",
       "      <td>17400</td>\n",
       "      <td>25.287356</td>\n",
       "    </tr>\n",
       "    <tr>\n",
       "      <th>23205</th>\n",
       "      <td>Sushi · Asiática</td>\n",
       "      <td>23000</td>\n",
       "      <td>6400</td>\n",
       "      <td>29400</td>\n",
       "      <td>21.768707</td>\n",
       "    </tr>\n",
       "    <tr>\n",
       "      <th>23206</th>\n",
       "      <td>Desayunos · Pescados y Mariscos</td>\n",
       "      <td>29500</td>\n",
       "      <td>4500</td>\n",
       "      <td>34000</td>\n",
       "      <td>13.235294</td>\n",
       "    </tr>\n",
       "    <tr>\n",
       "      <th>23207</th>\n",
       "      <td>Sushi · Asiática</td>\n",
       "      <td>13600</td>\n",
       "      <td>5300</td>\n",
       "      <td>18900</td>\n",
       "      <td>28.042328</td>\n",
       "    </tr>\n",
       "    <tr>\n",
       "      <th>23208</th>\n",
       "      <td>Desayunos · Típica</td>\n",
       "      <td>17800</td>\n",
       "      <td>3300</td>\n",
       "      <td>21100</td>\n",
       "      <td>15.639810</td>\n",
       "    </tr>\n",
       "    <tr>\n",
       "      <th>23209</th>\n",
       "      <td>Alta Cocina · Parrilla</td>\n",
       "      <td>10700</td>\n",
       "      <td>6000</td>\n",
       "      <td>16700</td>\n",
       "      <td>35.928144</td>\n",
       "    </tr>\n",
       "    <tr>\n",
       "      <th>23210</th>\n",
       "      <td>Parrilla</td>\n",
       "      <td>13000</td>\n",
       "      <td>5000</td>\n",
       "      <td>18000</td>\n",
       "      <td>27.777778</td>\n",
       "    </tr>\n",
       "    <tr>\n",
       "      <th>23211</th>\n",
       "      <td>Postres</td>\n",
       "      <td>53400</td>\n",
       "      <td>6200</td>\n",
       "      <td>59600</td>\n",
       "      <td>10.402685</td>\n",
       "    </tr>\n",
       "    <tr>\n",
       "      <th>23212</th>\n",
       "      <td>Postres</td>\n",
       "      <td>9000</td>\n",
       "      <td>6800</td>\n",
       "      <td>15800</td>\n",
       "      <td>43.037975</td>\n",
       "    </tr>\n",
       "    <tr>\n",
       "      <th>23213</th>\n",
       "      <td>Pescados y Mariscos</td>\n",
       "      <td>53400</td>\n",
       "      <td>5400</td>\n",
       "      <td>58800</td>\n",
       "      <td>9.183673</td>\n",
       "    </tr>\n",
       "    <tr>\n",
       "      <th>23214</th>\n",
       "      <td>Desayunos · Típica</td>\n",
       "      <td>23000</td>\n",
       "      <td>4700</td>\n",
       "      <td>27700</td>\n",
       "      <td>16.967509</td>\n",
       "    </tr>\n",
       "    <tr>\n",
       "      <th>23215</th>\n",
       "      <td>Saludable</td>\n",
       "      <td>45800</td>\n",
       "      <td>5700</td>\n",
       "      <td>51500</td>\n",
       "      <td>11.067961</td>\n",
       "    </tr>\n",
       "    <tr>\n",
       "      <th>23216</th>\n",
       "      <td>Saludable · Desayunos</td>\n",
       "      <td>31800</td>\n",
       "      <td>4700</td>\n",
       "      <td>36500</td>\n",
       "      <td>12.876712</td>\n",
       "    </tr>\n",
       "    <tr>\n",
       "      <th>23217</th>\n",
       "      <td>Desayunos · Café</td>\n",
       "      <td>17800</td>\n",
       "      <td>5900</td>\n",
       "      <td>23700</td>\n",
       "      <td>24.894515</td>\n",
       "    </tr>\n",
       "    <tr>\n",
       "      <th>23218</th>\n",
       "      <td>Desayunos</td>\n",
       "      <td>8900</td>\n",
       "      <td>4000</td>\n",
       "      <td>12900</td>\n",
       "      <td>31.007752</td>\n",
       "    </tr>\n",
       "    <tr>\n",
       "      <th>23219</th>\n",
       "      <td>Saludable</td>\n",
       "      <td>8900</td>\n",
       "      <td>4200</td>\n",
       "      <td>13100</td>\n",
       "      <td>32.061069</td>\n",
       "    </tr>\n",
       "    <tr>\n",
       "      <th>23220</th>\n",
       "      <td>Desayunos</td>\n",
       "      <td>15600</td>\n",
       "      <td>6700</td>\n",
       "      <td>22300</td>\n",
       "      <td>30.044843</td>\n",
       "    </tr>\n",
       "    <tr>\n",
       "      <th>23221</th>\n",
       "      <td>Desayunos · Café</td>\n",
       "      <td>10700</td>\n",
       "      <td>5000</td>\n",
       "      <td>15700</td>\n",
       "      <td>31.847134</td>\n",
       "    </tr>\n",
       "    <tr>\n",
       "      <th>23222</th>\n",
       "      <td>Desayunos · Panadería</td>\n",
       "      <td>13600</td>\n",
       "      <td>4700</td>\n",
       "      <td>18300</td>\n",
       "      <td>25.683060</td>\n",
       "    </tr>\n",
       "    <tr>\n",
       "      <th>23223</th>\n",
       "      <td>Hamburguesas · Saludable</td>\n",
       "      <td>39700</td>\n",
       "      <td>6100</td>\n",
       "      <td>45800</td>\n",
       "      <td>13.318777</td>\n",
       "    </tr>\n",
       "    <tr>\n",
       "      <th>23224</th>\n",
       "      <td>Postres</td>\n",
       "      <td>8900</td>\n",
       "      <td>4000</td>\n",
       "      <td>12900</td>\n",
       "      <td>31.007752</td>\n",
       "    </tr>\n",
       "    <tr>\n",
       "      <th>23225</th>\n",
       "      <td>Desayunos · Típica</td>\n",
       "      <td>8900</td>\n",
       "      <td>4500</td>\n",
       "      <td>13400</td>\n",
       "      <td>33.582090</td>\n",
       "    </tr>\n",
       "    <tr>\n",
       "      <th>23226</th>\n",
       "      <td>Típica</td>\n",
       "      <td>31800</td>\n",
       "      <td>4200</td>\n",
       "      <td>36000</td>\n",
       "      <td>11.666667</td>\n",
       "    </tr>\n",
       "    <tr>\n",
       "      <th>23227</th>\n",
       "      <td>Desayunos · Típica</td>\n",
       "      <td>23000</td>\n",
       "      <td>6000</td>\n",
       "      <td>29000</td>\n",
       "      <td>20.689655</td>\n",
       "    </tr>\n",
       "    <tr>\n",
       "      <th>23228</th>\n",
       "      <td>Desayunos · Árabe</td>\n",
       "      <td>37900</td>\n",
       "      <td>5300</td>\n",
       "      <td>43200</td>\n",
       "      <td>12.268519</td>\n",
       "    </tr>\n",
       "    <tr>\n",
       "      <th>23229</th>\n",
       "      <td>Típica</td>\n",
       "      <td>17800</td>\n",
       "      <td>3800</td>\n",
       "      <td>21600</td>\n",
       "      <td>17.592593</td>\n",
       "    </tr>\n",
       "  </tbody>\n",
       "</table>\n",
       "<p>23230 rows × 5 columns</p>\n",
       "</div>"
      ],
      "text/plain": [
       "                              Category  Purchase Price  Delivery Price  Total  \\\n",
       "0                Saludable · Desayunos           10700            3700  14400   \n",
       "1                              Postres           53900            6800  60700   \n",
       "2                    Postres · Helados            7500            6000  13500   \n",
       "3             Hamburguesas · Saludable           23000            6100  29100   \n",
       "4                  Postres · Desayunos            9000            4300  13300   \n",
       "5                        Pollo · China           24200            3500  27700   \n",
       "6                            Desayunos           24300            4400  28700   \n",
       "7                     Sushi · Asiática           45800            6400  52200   \n",
       "8                     Desayunos · Café           37900            4700  42600   \n",
       "9                  Postres · Desayunos            8900            6400  15300   \n",
       "10     Desayunos · Pescados y Mariscos           11870            5700  17570   \n",
       "11                 Postres · Desayunos           12500            3300  15800   \n",
       "12                        Hamburguesas           10700            5800  16500   \n",
       "13                           Saludable           24300            3700  28000   \n",
       "14               Saludable · Desayunos            8900            6000  14900   \n",
       "15                               Pizza           37900            4300  42200   \n",
       "16               Saludable · Desayunos           39700            4700  44400   \n",
       "17                              Típica           13600            5900  19500   \n",
       "18                   Pollo · Sánduches           13000            3000  16000   \n",
       "19                             Helados            8900            6800  15700   \n",
       "20                    Desayunos · Café           13600            4700  18300   \n",
       "21                    Pizza · Parrilla           39700            4000  43700   \n",
       "22                   Pollo · Saludable           24200            6500  30700   \n",
       "23                            Mexicana           29500            4300  33800   \n",
       "24                 Postres · Desayunos           35000            5900  40900   \n",
       "25               Saludable · Desayunos           39700            5900  45600   \n",
       "26                    Desayunos · Café           15600            6200  21800   \n",
       "27                 Postres · Desayunos           12500            6400  18900   \n",
       "28                               Sushi           11870            5400  17270   \n",
       "29                  Saludable · Típica           24300            3100  27400   \n",
       "...                                ...             ...             ...    ...   \n",
       "23200                Pollo · Desayunos           13600            3600  17200   \n",
       "23201                 Pizza · Italiana           12500            6600  19100   \n",
       "23202                 Desayunos · Café           65000            4600  69600   \n",
       "23203                         Mexicana           23000            3200  26200   \n",
       "23204                          Helados           13000            4400  17400   \n",
       "23205                 Sushi · Asiática           23000            6400  29400   \n",
       "23206  Desayunos · Pescados y Mariscos           29500            4500  34000   \n",
       "23207                 Sushi · Asiática           13600            5300  18900   \n",
       "23208               Desayunos · Típica           17800            3300  21100   \n",
       "23209           Alta Cocina · Parrilla           10700            6000  16700   \n",
       "23210                         Parrilla           13000            5000  18000   \n",
       "23211                          Postres           53400            6200  59600   \n",
       "23212                          Postres            9000            6800  15800   \n",
       "23213              Pescados y Mariscos           53400            5400  58800   \n",
       "23214               Desayunos · Típica           23000            4700  27700   \n",
       "23215                        Saludable           45800            5700  51500   \n",
       "23216            Saludable · Desayunos           31800            4700  36500   \n",
       "23217                 Desayunos · Café           17800            5900  23700   \n",
       "23218                        Desayunos            8900            4000  12900   \n",
       "23219                        Saludable            8900            4200  13100   \n",
       "23220                        Desayunos           15600            6700  22300   \n",
       "23221                 Desayunos · Café           10700            5000  15700   \n",
       "23222            Desayunos · Panadería           13600            4700  18300   \n",
       "23223         Hamburguesas · Saludable           39700            6100  45800   \n",
       "23224                          Postres            8900            4000  12900   \n",
       "23225               Desayunos · Típica            8900            4500  13400   \n",
       "23226                           Típica           31800            4200  36000   \n",
       "23227               Desayunos · Típica           23000            6000  29000   \n",
       "23228                Desayunos · Árabe           37900            5300  43200   \n",
       "23229                           Típica           17800            3800  21600   \n",
       "\n",
       "       Porcentaje  \n",
       "0       25.694444  \n",
       "1       11.202636  \n",
       "2       44.444444  \n",
       "3       20.962199  \n",
       "4       32.330827  \n",
       "5       12.635379  \n",
       "6       15.331010  \n",
       "7       12.260536  \n",
       "8       11.032864  \n",
       "9       41.830065  \n",
       "10      32.441662  \n",
       "11      20.886076  \n",
       "12      35.151515  \n",
       "13      13.214286  \n",
       "14      40.268456  \n",
       "15      10.189573  \n",
       "16      10.585586  \n",
       "17      30.256410  \n",
       "18      18.750000  \n",
       "19      43.312102  \n",
       "20      25.683060  \n",
       "21       9.153318  \n",
       "22      21.172638  \n",
       "23      12.721893  \n",
       "24      14.425428  \n",
       "25      12.938596  \n",
       "26      28.440367  \n",
       "27      33.862434  \n",
       "28      31.268095  \n",
       "29      11.313869  \n",
       "...           ...  \n",
       "23200   20.930233  \n",
       "23201   34.554974  \n",
       "23202    6.609195  \n",
       "23203   12.213740  \n",
       "23204   25.287356  \n",
       "23205   21.768707  \n",
       "23206   13.235294  \n",
       "23207   28.042328  \n",
       "23208   15.639810  \n",
       "23209   35.928144  \n",
       "23210   27.777778  \n",
       "23211   10.402685  \n",
       "23212   43.037975  \n",
       "23213    9.183673  \n",
       "23214   16.967509  \n",
       "23215   11.067961  \n",
       "23216   12.876712  \n",
       "23217   24.894515  \n",
       "23218   31.007752  \n",
       "23219   32.061069  \n",
       "23220   30.044843  \n",
       "23221   31.847134  \n",
       "23222   25.683060  \n",
       "23223   13.318777  \n",
       "23224   31.007752  \n",
       "23225   33.582090  \n",
       "23226   11.666667  \n",
       "23227   20.689655  \n",
       "23228   12.268519  \n",
       "23229   17.592593  \n",
       "\n",
       "[23230 rows x 5 columns]"
      ]
     },
     "execution_count": 4,
     "metadata": {},
     "output_type": "execute_result"
    }
   ],
   "source": [
    "data[\"Porcentaje\"] = (data[\"Delivery Price\"] / data[\"Total\"])*100\n",
    "data"
   ]
  },
  {
   "cell_type": "markdown",
   "metadata": {},
   "source": [
    "Filtramos las variables que se iban a requerir para este proyecto y además agregamos la variable de \"Porcentaje\" que representa el porcentaje de costo que tiene el envío sobre el total del pedido."
   ]
  },
  {
   "cell_type": "markdown",
   "metadata": {},
   "source": [
    "## Nodo 1\n",
    "- Determinar la relación sobre cuánto la gente gasta en envíos en base a lo que gasta en sus pedidos."
   ]
  },
  {
   "cell_type": "code",
   "execution_count": 5,
   "metadata": {
    "scrolled": false
   },
   "outputs": [
    {
     "data": {
      "image/png": "[encoded data removed]",
      "text/plain": [
       "<Figure size 432x288 with 1 Axes>"
      ]
     },
     "metadata": {
      "needs_background": "light"
     },
     "output_type": "display_data"
    }
   ],
   "source": [
    "plt.hist(data[\"Purchase Price\"], bins = 10)\n",
    "plt.show()"
   ]
  },
  {
   "cell_type": "code",
   "execution_count": 6,
   "metadata": {
    "scrolled": true
   },
   "outputs": [
    {
     "name": "stdout",
     "output_type": "stream",
     "text": [
      "El promedio de precio de compras por pedido es de $ 28588.240206629358\n",
      "La mínima compra afectuada fue de $ 7500\n",
      "La máxima compra realizada fue de $ 70000\n"
     ]
    }
   ],
   "source": [
    "media = mean(data[\"Purchase Price\"])\n",
    "minima = min(data[\"Purchase Price\"])\n",
    "maxima = max(data[\"Purchase Price\"])\n",
    "\n",
    "print(\"El promedio de precio de compras por pedido es de $\", media)\n",
    "print(\"La mínima compra afectuada fue de $\", minima)\n",
    "print(\"La máxima compra realizada fue de $\", maxima)"
   ]
  },
  {
   "cell_type": "markdown",
   "metadata": {},
   "source": [
    "Como se puede observar en el histograma la categoría que ronda los $10,000 pesos es la que tiene más pedidos efectuados, y a medida que el precio va subiendo cada vez hay menos pedidos."
   ]
  },
  {
   "cell_type": "code",
   "execution_count": 7,
   "metadata": {
    "scrolled": false
   },
   "outputs": [
    {
     "data": {
      "image/png": "[encoded data removed]",
      "text/plain": [
       "<Figure size 432x288 with 1 Axes>"
      ]
     },
     "metadata": {
      "needs_background": "light"
     },
     "output_type": "display_data"
    }
   ],
   "source": [
    "plt.hist(data[\"Delivery Price\"], bins = 10)\n",
    "plt.show()"
   ]
  },
  {
   "cell_type": "code",
   "execution_count": 8,
   "metadata": {
    "scrolled": true
   },
   "outputs": [
    {
     "name": "stdout",
     "output_type": "stream",
     "text": [
      "El promedio de precio de encargo por pedido es de $ 4901.45071028842\n",
      "El mínima precio de encargo fue de $ 3000\n",
      "El máximo precio de encargo fue de $ 6800\n"
     ]
    }
   ],
   "source": [
    "media = mean(data[\"Delivery Price\"])\n",
    "minima = min(data[\"Delivery Price\"])\n",
    "maxima = max(data[\"Delivery Price\"])\n",
    "\n",
    "print(\"El promedio de precio de encargo por pedido es de $\", media)\n",
    "print(\"El mínima precio de encargo fue de $\", minima)\n",
    "print(\"El máximo precio de encargo fue de $\", maxima)"
   ]
  },
  {
   "cell_type": "markdown",
   "metadata": {},
   "source": [
    "El rango de costo de entrega a la que la gente esta dispuesta a pagar va desde los 3,000 pesos hasta los 6,800 pesos, mientras que el promedio del costo de entrega es de $4,900."
   ]
  },
  {
   "cell_type": "code",
   "execution_count": 9,
   "metadata": {
    "scrolled": false
   },
   "outputs": [
    {
     "data": {
      "image/png": "[encoded data removed]",
      "text/plain": [
       "<Figure size 432x288 with 1 Axes>"
      ]
     },
     "metadata": {
      "needs_background": "light"
     },
     "output_type": "display_data"
    }
   ],
   "source": [
    "plt.hist(data[\"Porcentaje\"], bins = 10)\n",
    "plt.show()"
   ]
  },
  {
   "cell_type": "code",
   "execution_count": 10,
   "metadata": {},
   "outputs": [
    {
     "name": "stdout",
     "output_type": "stream",
     "text": [
      "El promedio de porcentaje de gasto por pedido es de 18.59462350164813 %\n",
      "El mínimo porcentaje de compra fue 4.10958904109589 %\n",
      "El máximo porcentaje de compra fue 47.55244755244755 %\n"
     ]
    }
   ],
   "source": [
    "media = mean(data[\"Porcentaje\"])\n",
    "minima = min(data[\"Porcentaje\"])\n",
    "maxima = max(data[\"Porcentaje\"])\n",
    "\n",
    "\n",
    "print(\"El promedio de porcentaje de gasto por pedido es de\", media,\"%\")\n",
    "print(\"El mínimo porcentaje de compra fue\", minima,\"%\")\n",
    "print(\"El máximo porcentaje de compra fue\", maxima,\"%\")\n"
   ]
  },
  {
   "cell_type": "markdown",
   "metadata": {},
   "source": [
    "Se puede observar que la gente en promedio paga hasta un 18%-19% del precio total de su pedido como tarifa de entrega."
   ]
  },
  {
   "cell_type": "code",
   "execution_count": 11,
   "metadata": {},
   "outputs": [
    {
     "data": {
      "text/plain": [
       "'Postres · Desayunos'"
      ]
     },
     "execution_count": 11,
     "metadata": {},
     "output_type": "execute_result"
    }
   ],
   "source": [
    "mode(data[\"Category\"])"
   ]
  },
  {
   "cell_type": "markdown",
   "metadata": {},
   "source": [
    "La categoría de la que más pedidos se hacen es la de Postres y Desayunos."
   ]
  },
  {
   "cell_type": "code",
   "execution_count": 24,
   "metadata": {},
   "outputs": [
    {
     "data": {
      "image/png": "[encoded data removed]",
      "text/plain": [
       "<Figure size 432x288 with 1 Axes>"
      ]
     },
     "metadata": {
      "needs_background": "light"
     },
     "output_type": "display_data"
    }
   ],
   "source": [
    "porcentaje = data[\"Porcentaje\"]\n",
    "plt.hist(porcentaje, bins = 30)\n",
    "plt.show()"
   ]
  },
  {
   "cell_type": "code",
   "execution_count": 13,
   "metadata": {},
   "outputs": [],
   "source": [
    "import seaborn as sns"
   ]
  },
  {
   "cell_type": "code",
   "execution_count": 14,
   "metadata": {},
   "outputs": [
    {
     "data": {
      "image/png": "[encoded data removed]",
      "text/plain": [
       "<Figure size 432x288 with 1 Axes>"
      ]
     },
     "metadata": {
      "needs_background": "light"
     },
     "output_type": "display_data"
    }
   ],
   "source": [
    "ax = sns.distplot(porcentaje)"
   ]
  },
  {
   "cell_type": "code",
   "execution_count": 15,
   "metadata": {},
   "outputs": [
    {
     "data": {
      "text/plain": [
       "<matplotlib.axes._subplots.AxesSubplot at 0x1f548f54b38>"
      ]
     },
     "execution_count": 15,
     "metadata": {},
     "output_type": "execute_result"
    },
    {
     "data": {
      "image/png": "[encoded data removed]",
      "text/plain": [
       "<Figure size 432x288 with 1 Axes>"
      ]
     },
     "metadata": {
      "needs_background": "light"
     },
     "output_type": "display_data"
    }
   ],
   "source": [
    "pron=sns.kdeplot(porcentaje)\n",
    "pron"
   ]
  },
  {
   "cell_type": "code",
   "execution_count": 16,
   "metadata": {},
   "outputs": [
    {
     "name": "stdout",
     "output_type": "stream",
     "text": [
      "mu= 18.59462350164813\n",
      "sigma= 9.782888708193019\n"
     ]
    }
   ],
   "source": [
    "desvest=statistics.stdev(data[\"Porcentaje\"])\n",
    "print(\"mu=\", media)\n",
    "print(\"sigma=\", desvest)"
   ]
  },
  {
   "cell_type": "code",
   "execution_count": 28,
   "metadata": {},
   "outputs": [
    {
     "data": {
      "image/png": "[encoded data removed]",
      "text/plain": [
       "<Figure size 432x288 with 1 Axes>"
      ]
     },
     "metadata": {
      "needs_background": "light"
     },
     "output_type": "display_data"
    },
    {
     "data": {
      "image/png": "[encoded data removed]",
      "text/plain": [
       "<Figure size 432x288 with 1 Axes>"
      ]
     },
     "metadata": {
      "needs_background": "light"
     },
     "output_type": "display_data"
    }
   ],
   "source": [
    "N = 10000\n",
    "# (Método transformada inversa visto en clases pasadas) d.normal\n",
    "mu = media\n",
    "sigma =desvest\n",
    "\n",
    "\n",
    "# Método montecarlo estándar para distribución normal\n",
    "montecarlo_standar = st.norm(mu, sigma).ppf(np.random.rand(N))\n",
    "sns.kdeplot(porcentaje)\n",
    "plt.hist(montecarlo_standar,20,density=True)\n",
    "plt.title('Montecarlo estándar')\n",
    "plt.xlim((0, 50))\n",
    "plt.show()\n",
    "\n",
    "# Método muestreo estratificado (B estratos)\n",
    "B = N\n",
    "U2 = np.random.rand(N)\n",
    "m_estratificado = st.norm(mu, sigma).ppf((U2 + np.arange(0, B)) / B)\n",
    "sns.kdeplot(porcentaje)\n",
    "plt.hist(m_estratificado,20,density=True)\n",
    "plt.title('Muestreo estratificado')\n",
    "plt.xlim((0, 50))\n",
    "plt.show()"
   ]
  },
  {
   "cell_type": "code",
   "execution_count": null,
   "metadata": {},
   "outputs": [],
   "source": []
  }
 ],
 "metadata": {
  "kernelspec": {
   "display_name": "Python 3",
   "language": "python",
   "name": "python3"
  },
  "language_info": {
   "codemirror_mode": {
    "name": "ipython",
    "version": 3
   },
   "file_extension": ".py",
   "mimetype": "text/x-python",
   "name": "python",
   "nbconvert_exporter": "python",
   "pygments_lexer": "ipython3",
   "version": "3.7.3"
  }
 },
 "nbformat": 4,
 "nbformat_minor": 2
}
