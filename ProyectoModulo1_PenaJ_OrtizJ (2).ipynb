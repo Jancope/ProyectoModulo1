{
 "cells": [
  {
   "cell_type": "markdown",
   "metadata": {},
   "source": [
    "<img style=\"float: left; margin: 30px 15px 15px 15px;\" src=\"https://pngimage.net/wp-content/uploads/2018/06/logo-iteso-png-5.png\" width=\"300\" height=\"500\" /> \n",
    "    \n",
    "    \n",
    "## <font color='navy'> SIMULACIÓN DE PROCESOS FINANCIEROS   \n",
    "\n",
    "**Nombres:** \n",
    "José Antonio Contreras Peña y Jesús Sebastian Gonzalez Ortiz \n",
    "\n",
    "**Fecha:** 14 de octubre del 2021.\n",
    "\n",
    "**Expediente** : 721860 y 721621.\n",
    "\n",
    "**Profesor:** Oscar David Jaramillo Zuluaga.\n",
    "\n",
    "**Enlace Github:** https://github.com/Jancope/ProyectoModulo1\n",
    "\n",
    "## Definición de Proyecto  Clase: 12"
   ]
  },
  {
   "cell_type": "markdown",
   "metadata": {},
   "source": [
    "# Tema: *Simulación de ventas de Rappi*"
   ]
  },
  {
   "cell_type": "markdown",
   "metadata": {},
   "source": [
    "### Objetivos\n",
    "\n",
    "   ### 1.1 Objetivo general\n",
    "   - Analizar y determinar la disposición de pago de clientes por envío.\n",
    "    \n",
    "   ### 1.2 Objetivos específicos\n",
    "   - Determinar la relación sobre cuánto la gente gasta en envíos en base a lo que gasta en sus pedidos.\n",
    "   - Encontrar las categorías donde la gente gasta más en envíos.\n",
    "   - Encontrar rangos de gasto promedio por pedido.\n",
    "   - "
   ]
  },
  {
   "cell_type": "markdown",
   "metadata": {},
   "source": [
    "### Definición del problema\n",
    "\n",
    "<img style=\"float: right; margin: 10px 10px 15px 15px;\" src=\"data:image/png;base64,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\" height=\"700px\" />\n",
    "\n",
    "Las empresas que ofrecen el servicio a domicilio han ido en auge agarrando cada vez más importancia dentro de la sociedad, desde favores y encargos hasta el servicio a domicilio de alimentos, Rappi es uno de los grandes exponentes de esta industria y ha asentado bases dentro de la sociedad que hasta el día de hoy su aplicación se ha vuelto indispensable para muchas personas. \n",
    "\n",
    "Uno de los grandes problemas de pueden afrontar dichas empresas son sus tarifas de entrega que, además del precio de la compra o favor que se encarga, es un costo extra que los clientes tienen muy presentes y pueden ser lo que define si un cliente hace el encargo o no.\n",
    "\n",
    "Para la investigación se debe tener en cuenta que los datos recopilados son de Bogotá, Colombia y están enfocados en el servicio a domicilio de alimentos en este caso. Se sabe Rappi no es la única aplicación de servicios a domicilio en el mercado, es una de las principales, pero siempre que haya una mejor oferta o una menor tarifa de entrega por el mismo producto en otra aplicación, obviamente significaría que no usarán Rappi.\n",
    "\n",
    "Para determinar las preferencias de cantidad de pagos por envío se tendrán en cuenta como variables el precio del pedido, costo del pedido, categoría del pedido y la relación precio-costo de envío que tienen los pedidos para tener unas simulaciones representativas del contexto.\n"
   ]
  },
  {
   "cell_type": "markdown",
   "metadata": {},
   "source": [
    "### Nodos\n",
    "   - Determinar la relación sobre cuánto la gente gasta en envíos en base a lo que gasta en sus pedidos.\n",
    "   - Encontrar las categorías donde la gente gasta más en envíos.\n",
    "   - Encontrar rangos de gasto promedio por pedido.\n",
    "   - \n",
    "\n",
    "### Variables\n",
    " - Tipo de comercio\n",
    " - Gasto de envío\n",
    " - Total Gastado\n",
    " - Porcentaje de gasto de envió de la compra\n",
    "\n",
    "### Hipótesis y Supuestos:\n",
    " - La empresa gana mas dinero cuando se paga más de envió\n",
    " - Las personas están dispuestas a pagar más de envió si la compra es mas grande."
   ]
  },
  {
   "cell_type": "markdown",
   "metadata": {},
   "source": [
    "### Obtención de base de datos\n",
    "\n",
    "https://www.kaggle.com/alexbonella/sales-simulation-at-rappi"
   ]
  },
  {
   "cell_type": "code",
   "execution_count": 1,
   "metadata": {},
   "outputs": [],
   "source": [
    "# Librerías\n",
    "import numpy as np\n",
    "import matplotlib.pyplot as plt\n",
    "from itertools import cycle  \n",
    "import matplotlib.pyplot as plt\n",
    "import scipy.stats as st     \n",
    "import pandas as pd\n",
    "from sklearn.neighbors import KernelDensity\n",
    "from scipy.stats import gaussian_kde\n",
    "from statsmodels.nonparametric.kde import KDEUnivariate\n",
    "from statsmodels.nonparametric.kernel_density import KDEMultivariate\n",
    "import warnings\n",
    "import statsmodels as sm \n",
    "import matplotlib \n",
    "from scipy.stats import loglaplace \n",
    "from scipy.stats.distributions import norm \n",
    "from sklearn.model_selection import GridSearchCV\n",
    "from statistics import mode\n",
    "from statistics import mean\n"
   ]
  },
  {
   "cell_type": "markdown",
   "metadata": {},
   "source": [
    "### Base de datos"
   ]
  },
  {
   "cell_type": "code",
   "execution_count": 2,
   "metadata": {},
   "outputs": [
    {
     "data": {
      "text/html": [
       "<div>\n",
       "<style scoped>\n",
       "    .dataframe tbody tr th:only-of-type {\n",
       "        vertical-align: middle;\n",
       "    }\n",
       "\n",
       "    .dataframe tbody tr th {\n",
       "        vertical-align: top;\n",
       "    }\n",
       "\n",
       "    .dataframe thead th {\n",
       "        text-align: right;\n",
       "    }\n",
       "</style>\n",
       "<table border=\"1\" class=\"dataframe\">\n",
       "  <thead>\n",
       "    <tr style=\"text-align: right;\">\n",
       "      <th></th>\n",
       "      <th>Unnamed: 0</th>\n",
       "      <th>purchase_ID</th>\n",
       "      <th>Date at created</th>\n",
       "      <th>Category</th>\n",
       "      <th>Name</th>\n",
       "      <th>Purchase Price</th>\n",
       "      <th>Delivery Price</th>\n",
       "      <th>Total</th>\n",
       "    </tr>\n",
       "  </thead>\n",
       "  <tbody>\n",
       "    <tr>\n",
       "      <th>0</th>\n",
       "      <td>0</td>\n",
       "      <td>1</td>\n",
       "      <td>21-10-2020 14:42:55.373979</td>\n",
       "      <td>Saludable · Desayunos</td>\n",
       "      <td>Distrito Gourmet</td>\n",
       "      <td>10700</td>\n",
       "      <td>3700</td>\n",
       "      <td>14400</td>\n",
       "    </tr>\n",
       "    <tr>\n",
       "      <th>1</th>\n",
       "      <td>1</td>\n",
       "      <td>2</td>\n",
       "      <td>21-10-2020 14:42:55.483563</td>\n",
       "      <td>Postres</td>\n",
       "      <td>Toledo Pastelería</td>\n",
       "      <td>53900</td>\n",
       "      <td>6800</td>\n",
       "      <td>60700</td>\n",
       "    </tr>\n",
       "    <tr>\n",
       "      <th>2</th>\n",
       "      <td>2</td>\n",
       "      <td>3</td>\n",
       "      <td>21-10-2020 14:42:55.739536</td>\n",
       "      <td>Postres · Helados</td>\n",
       "      <td>Mahé</td>\n",
       "      <td>7500</td>\n",
       "      <td>6000</td>\n",
       "      <td>13500</td>\n",
       "    </tr>\n",
       "    <tr>\n",
       "      <th>3</th>\n",
       "      <td>3</td>\n",
       "      <td>4</td>\n",
       "      <td>21-10-2020 14:42:55.945560</td>\n",
       "      <td>Hamburguesas · Saludable</td>\n",
       "      <td>Restaurant Inn</td>\n",
       "      <td>23000</td>\n",
       "      <td>6100</td>\n",
       "      <td>29100</td>\n",
       "    </tr>\n",
       "    <tr>\n",
       "      <th>4</th>\n",
       "      <td>4</td>\n",
       "      <td>5</td>\n",
       "      <td>21-10-2020 14:42:56.201561</td>\n",
       "      <td>Postres · Desayunos</td>\n",
       "      <td>Maria Luisa - Postres</td>\n",
       "      <td>9000</td>\n",
       "      <td>4300</td>\n",
       "      <td>13300</td>\n",
       "    </tr>\n",
       "  </tbody>\n",
       "</table>\n",
       "</div>"
      ],
      "text/plain": [
       "   Unnamed: 0  purchase_ID             Date at created  \\\n",
       "0           0            1  21-10-2020 14:42:55.373979   \n",
       "1           1            2  21-10-2020 14:42:55.483563   \n",
       "2           2            3  21-10-2020 14:42:55.739536   \n",
       "3           3            4  21-10-2020 14:42:55.945560   \n",
       "4           4            5  21-10-2020 14:42:56.201561   \n",
       "\n",
       "                   Category                   Name  Purchase Price  \\\n",
       "0     Saludable · Desayunos       Distrito Gourmet           10700   \n",
       "1                   Postres      Toledo Pastelería           53900   \n",
       "2         Postres · Helados                   Mahé            7500   \n",
       "3  Hamburguesas · Saludable         Restaurant Inn           23000   \n",
       "4       Postres · Desayunos  Maria Luisa - Postres            9000   \n",
       "\n",
       "   Delivery Price  Total  \n",
       "0            3700  14400  \n",
       "1            6800  60700  \n",
       "2            6000  13500  \n",
       "3            6100  29100  \n",
       "4            4300  13300  "
      ]
     },
     "execution_count": 2,
     "metadata": {},
     "output_type": "execute_result"
    }
   ],
   "source": [
    "data = pd.read_csv('Sales_simulation.csv')\n",
    "data.head()"
   ]
  },
  {
   "cell_type": "code",
   "execution_count": 3,
   "metadata": {
    "scrolled": false
   },
   "outputs": [
    {
     "data": {
      "text/html": [
       "<div>\n",
       "<style scoped>\n",
       "    .dataframe tbody tr th:only-of-type {\n",
       "        vertical-align: middle;\n",
       "    }\n",
       "\n",
       "    .dataframe tbody tr th {\n",
       "        vertical-align: top;\n",
       "    }\n",
       "\n",
       "    .dataframe thead th {\n",
       "        text-align: right;\n",
       "    }\n",
       "</style>\n",
       "<table border=\"1\" class=\"dataframe\">\n",
       "  <thead>\n",
       "    <tr style=\"text-align: right;\">\n",
       "      <th></th>\n",
       "      <th>Category</th>\n",
       "      <th>Purchase Price</th>\n",
       "      <th>Delivery Price</th>\n",
       "      <th>Total</th>\n",
       "    </tr>\n",
       "  </thead>\n",
       "  <tbody>\n",
       "    <tr>\n",
       "      <th>0</th>\n",
       "      <td>Saludable · Desayunos</td>\n",
       "      <td>10700</td>\n",
       "      <td>3700</td>\n",
       "      <td>14400</td>\n",
       "    </tr>\n",
       "    <tr>\n",
       "      <th>1</th>\n",
       "      <td>Postres</td>\n",
       "      <td>53900</td>\n",
       "      <td>6800</td>\n",
       "      <td>60700</td>\n",
       "    </tr>\n",
       "    <tr>\n",
       "      <th>2</th>\n",
       "      <td>Postres · Helados</td>\n",
       "      <td>7500</td>\n",
       "      <td>6000</td>\n",
       "      <td>13500</td>\n",
       "    </tr>\n",
       "    <tr>\n",
       "      <th>3</th>\n",
       "      <td>Hamburguesas · Saludable</td>\n",
       "      <td>23000</td>\n",
       "      <td>6100</td>\n",
       "      <td>29100</td>\n",
       "    </tr>\n",
       "    <tr>\n",
       "      <th>4</th>\n",
       "      <td>Postres · Desayunos</td>\n",
       "      <td>9000</td>\n",
       "      <td>4300</td>\n",
       "      <td>13300</td>\n",
       "    </tr>\n",
       "  </tbody>\n",
       "</table>\n",
       "</div>"
      ],
      "text/plain": [
       "                   Category  Purchase Price  Delivery Price  Total\n",
       "0     Saludable · Desayunos           10700            3700  14400\n",
       "1                   Postres           53900            6800  60700\n",
       "2         Postres · Helados            7500            6000  13500\n",
       "3  Hamburguesas · Saludable           23000            6100  29100\n",
       "4       Postres · Desayunos            9000            4300  13300"
      ]
     },
     "execution_count": 3,
     "metadata": {},
     "output_type": "execute_result"
    }
   ],
   "source": [
    "data = data.drop([\"Unnamed: 0\"], axis=1)\n",
    "data = data.drop([\"purchase_ID\"], axis=1)\n",
    "data = data.drop([\"Date at created\"], axis=1)\n",
    "data = data.drop([\"Name\"], axis=1)\n",
    "data.head()"
   ]
  },
  {
   "cell_type": "markdown",
   "metadata": {},
   "source": [
    "Se eliminaron columnas de datos basura de la base de datos."
   ]
  },
  {
   "cell_type": "code",
   "execution_count": 4,
   "metadata": {
    "scrolled": true
   },
   "outputs": [
    {
     "data": {
      "text/html": [
       "<div>\n",
       "<style scoped>\n",
       "    .dataframe tbody tr th:only-of-type {\n",
       "        vertical-align: middle;\n",
       "    }\n",
       "\n",
       "    .dataframe tbody tr th {\n",
       "        vertical-align: top;\n",
       "    }\n",
       "\n",
       "    .dataframe thead th {\n",
       "        text-align: right;\n",
       "    }\n",
       "</style>\n",
       "<table border=\"1\" class=\"dataframe\">\n",
       "  <thead>\n",
       "    <tr style=\"text-align: right;\">\n",
       "      <th></th>\n",
       "      <th>Category</th>\n",
       "      <th>Purchase Price</th>\n",
       "      <th>Delivery Price</th>\n",
       "      <th>Total</th>\n",
       "      <th>Porcentaje</th>\n",
       "    </tr>\n",
       "  </thead>\n",
       "  <tbody>\n",
       "    <tr>\n",
       "      <th>0</th>\n",
       "      <td>Saludable · Desayunos</td>\n",
       "      <td>10700</td>\n",
       "      <td>3700</td>\n",
       "      <td>14400</td>\n",
       "      <td>25.694444</td>\n",
       "    </tr>\n",
       "    <tr>\n",
       "      <th>1</th>\n",
       "      <td>Postres</td>\n",
       "      <td>53900</td>\n",
       "      <td>6800</td>\n",
       "      <td>60700</td>\n",
       "      <td>11.202636</td>\n",
       "    </tr>\n",
       "    <tr>\n",
       "      <th>2</th>\n",
       "      <td>Postres · Helados</td>\n",
       "      <td>7500</td>\n",
       "      <td>6000</td>\n",
       "      <td>13500</td>\n",
       "      <td>44.444444</td>\n",
       "    </tr>\n",
       "    <tr>\n",
       "      <th>3</th>\n",
       "      <td>Hamburguesas · Saludable</td>\n",
       "      <td>23000</td>\n",
       "      <td>6100</td>\n",
       "      <td>29100</td>\n",
       "      <td>20.962199</td>\n",
       "    </tr>\n",
       "    <tr>\n",
       "      <th>4</th>\n",
       "      <td>Postres · Desayunos</td>\n",
       "      <td>9000</td>\n",
       "      <td>4300</td>\n",
       "      <td>13300</td>\n",
       "      <td>32.330827</td>\n",
       "    </tr>\n",
       "    <tr>\n",
       "      <th>...</th>\n",
       "      <td>...</td>\n",
       "      <td>...</td>\n",
       "      <td>...</td>\n",
       "      <td>...</td>\n",
       "      <td>...</td>\n",
       "    </tr>\n",
       "    <tr>\n",
       "      <th>23225</th>\n",
       "      <td>Desayunos · Típica</td>\n",
       "      <td>8900</td>\n",
       "      <td>4500</td>\n",
       "      <td>13400</td>\n",
       "      <td>33.582090</td>\n",
       "    </tr>\n",
       "    <tr>\n",
       "      <th>23226</th>\n",
       "      <td>Típica</td>\n",
       "      <td>31800</td>\n",
       "      <td>4200</td>\n",
       "      <td>36000</td>\n",
       "      <td>11.666667</td>\n",
       "    </tr>\n",
       "    <tr>\n",
       "      <th>23227</th>\n",
       "      <td>Desayunos · Típica</td>\n",
       "      <td>23000</td>\n",
       "      <td>6000</td>\n",
       "      <td>29000</td>\n",
       "      <td>20.689655</td>\n",
       "    </tr>\n",
       "    <tr>\n",
       "      <th>23228</th>\n",
       "      <td>Desayunos · Árabe</td>\n",
       "      <td>37900</td>\n",
       "      <td>5300</td>\n",
       "      <td>43200</td>\n",
       "      <td>12.268519</td>\n",
       "    </tr>\n",
       "    <tr>\n",
       "      <th>23229</th>\n",
       "      <td>Típica</td>\n",
       "      <td>17800</td>\n",
       "      <td>3800</td>\n",
       "      <td>21600</td>\n",
       "      <td>17.592593</td>\n",
       "    </tr>\n",
       "  </tbody>\n",
       "</table>\n",
       "<p>23230 rows × 5 columns</p>\n",
       "</div>"
      ],
      "text/plain": [
       "                       Category  Purchase Price  Delivery Price  Total  \\\n",
       "0         Saludable · Desayunos           10700            3700  14400   \n",
       "1                       Postres           53900            6800  60700   \n",
       "2             Postres · Helados            7500            6000  13500   \n",
       "3      Hamburguesas · Saludable           23000            6100  29100   \n",
       "4           Postres · Desayunos            9000            4300  13300   \n",
       "...                         ...             ...             ...    ...   \n",
       "23225        Desayunos · Típica            8900            4500  13400   \n",
       "23226                    Típica           31800            4200  36000   \n",
       "23227        Desayunos · Típica           23000            6000  29000   \n",
       "23228         Desayunos · Árabe           37900            5300  43200   \n",
       "23229                    Típica           17800            3800  21600   \n",
       "\n",
       "       Porcentaje  \n",
       "0       25.694444  \n",
       "1       11.202636  \n",
       "2       44.444444  \n",
       "3       20.962199  \n",
       "4       32.330827  \n",
       "...           ...  \n",
       "23225   33.582090  \n",
       "23226   11.666667  \n",
       "23227   20.689655  \n",
       "23228   12.268519  \n",
       "23229   17.592593  \n",
       "\n",
       "[23230 rows x 5 columns]"
      ]
     },
     "execution_count": 4,
     "metadata": {},
     "output_type": "execute_result"
    }
   ],
   "source": [
    "data[\"Porcentaje\"] = (data[\"Delivery Price\"] / data[\"Total\"])*100\n",
    "data"
   ]
  },
  {
   "cell_type": "markdown",
   "metadata": {},
   "source": [
    "Filtramos las variables que se iban a requerir para este proyecto y además agregamos la variable de \"Porcentaje\" que representa el porcentaje de costo que tiene el envío sobre el total del pedido."
   ]
  },
  {
   "cell_type": "markdown",
   "metadata": {},
   "source": [
    "### Histogramas de variables"
   ]
  },
  {
   "cell_type": "code",
   "execution_count": 5,
   "metadata": {
    "scrolled": false
   },
   "outputs": [
    {
     "data": {
      "image/png": "[encoded data removed]",
      "text/plain": [
       "<Figure size 432x288 with 1 Axes>"
      ]
     },
     "metadata": {
      "needs_background": "light"
     },
     "output_type": "display_data"
    }
   ],
   "source": [
    "plt.hist(data[\"Purchase Price\"], bins = 10)\n",
    "plt.show()"
   ]
  },
  {
   "cell_type": "code",
   "execution_count": 6,
   "metadata": {
    "scrolled": true
   },
   "outputs": [
    {
     "name": "stdout",
     "output_type": "stream",
     "text": [
      "El promedio de precio de compras por pedido es de $ 28588.240206629358\n",
      "La mínima compra afectuada fue de $ 7500\n",
      "La máxima compra realizada fue de $ 70000\n"
     ]
    }
   ],
   "source": [
    "media = mean(data[\"Purchase Price\"])\n",
    "minima = min(data[\"Purchase Price\"])\n",
    "maxima = max(data[\"Purchase Price\"])\n",
    "\n",
    "print(\"El promedio de precio de compras por pedido es de $\", media)\n",
    "print(\"La mínima compra afectuada fue de $\", minima)\n",
    "print(\"La máxima compra realizada fue de $\", maxima)"
   ]
  },
  {
   "cell_type": "markdown",
   "metadata": {},
   "source": [
    "Como se puede observar en el histograma la categoría que ronda los $10,000 pesos es la que tiene más pedidos efectuados, y a medida que el precio va subiendo cada vez hay menos pedidos."
   ]
  },
  {
   "cell_type": "code",
   "execution_count": 7,
   "metadata": {
    "scrolled": false
   },
   "outputs": [
    {
     "data": {
      "image/png": "[encoded data removed]",
      "text/plain": [
       "<Figure size 432x288 with 1 Axes>"
      ]
     },
     "metadata": {
      "needs_background": "light"
     },
     "output_type": "display_data"
    }
   ],
   "source": [
    "plt.hist(data[\"Delivery Price\"], bins = 10)\n",
    "plt.show()"
   ]
  },
  {
   "cell_type": "code",
   "execution_count": 12,
   "metadata": {
    "scrolled": true
   },
   "outputs": [
    {
     "name": "stdout",
     "output_type": "stream",
     "text": [
      "El promedio de precio de encargo por pedido es de $ 4901.45071028842\n",
      "El mínima precio de encargo fue de $ 3000\n",
      "El máximo precio de encargo fue de $ 6800\n"
     ]
    }
   ],
   "source": [
    "media = mean(data[\"Delivery Price\"])\n",
    "minima = min(data[\"Delivery Price\"])\n",
    "maxima = max(data[\"Delivery Price\"])\n",
    "\n",
    "print(\"El promedio de precio de encargo por pedido es de $\", media)\n",
    "print(\"El mínima precio de encargo fue de $\", minima)\n",
    "print(\"El máximo precio de encargo fue de $\", maxima)"
   ]
  },
  {
   "cell_type": "markdown",
   "metadata": {},
   "source": [
    "El rango de costo de entrega a la que la gente esta dispuesta a pagar va desde los 3,000 pesos hasta los 6,800 pesos, mientras que el promedio del costo de entrega es de $4,900."
   ]
  },
  {
   "cell_type": "code",
   "execution_count": 9,
   "metadata": {
    "scrolled": false
   },
   "outputs": [
    {
     "data": {
      "image/png": "[encoded data removed]",
      "text/plain": [
       "<Figure size 432x288 with 1 Axes>"
      ]
     },
     "metadata": {
      "needs_background": "light"
     },
     "output_type": "display_data"
    }
   ],
   "source": [
    "plt.hist(data[\"Porcentaje\"], bins = 10)\n",
    "plt.show()"
   ]
  },
  {
   "cell_type": "code",
   "execution_count": 13,
   "metadata": {},
   "outputs": [
    {
     "name": "stdout",
     "output_type": "stream",
     "text": [
      "El promedio de porcentaje de gasto por pedido es de 18.59462350164813 %\n",
      "El mínimo porcentaje de compra fue 4.10958904109589 %\n",
      "El máximo porcentaje de compra fue 47.55244755244755 %\n"
     ]
    }
   ],
   "source": [
    "media = mean(data[\"Porcentaje\"])\n",
    "minima = min(data[\"Porcentaje\"])\n",
    "maxima = max(data[\"Porcentaje\"])\n",
    "\n",
    "print(\"El promedio de porcentaje de gasto por pedido es de\", media,\"%\")\n",
    "print(\"El mínimo porcentaje de compra fue\", minima,\"%\")\n",
    "print(\"El máximo porcentaje de compra fue\", maxima,\"%\")"
   ]
  },
  {
   "cell_type": "markdown",
   "metadata": {},
   "source": [
    "Se puede observar que la gente en promedio paga hasta un 18%-19% del precio total de su pedido como tarifa de entrega."
   ]
  },
  {
   "cell_type": "code",
   "execution_count": 11,
   "metadata": {},
   "outputs": [
    {
     "data": {
      "text/plain": [
       "'Postres · Desayunos'"
      ]
     },
     "execution_count": 11,
     "metadata": {},
     "output_type": "execute_result"
    }
   ],
   "source": [
    "mode(data[\"Category\"])"
   ]
  },
  {
   "cell_type": "markdown",
   "metadata": {},
   "source": [
    "La categoría de la que más pedidos se hacen es la de Postres y Desayunos."
   ]
  }
 ],
 "metadata": {
  "kernelspec": {
   "display_name": "Python 3",
   "language": "python",
   "name": "python3"
  },
  "language_info": {
   "codemirror_mode": {
    "name": "ipython",
    "version": 3
   },
   "file_extension": ".py",
   "mimetype": "text/x-python",
   "name": "python",
   "nbconvert_exporter": "python",
   "pygments_lexer": "ipython3",
   "version": "3.8.8"
  }
 },
 "nbformat": 4,
 "nbformat_minor": 2
}
