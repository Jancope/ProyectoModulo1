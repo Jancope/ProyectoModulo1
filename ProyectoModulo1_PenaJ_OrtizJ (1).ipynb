{
 "cells": [
  {
   "cell_type": "markdown",
   "metadata": {},
   "source": [
    "<img style=\"float: left; margin: 30px 15px 15px 15px;\" src=\"https://pngimage.net/wp-content/uploads/2018/06/logo-iteso-png-5.png\" width=\"300\" height=\"500\" /> \n",
    "    \n",
    "    \n",
    "## <font color='navy'> SIMULACIÓN DE PROCESOS FINANCIEROS   \n",
    "\n",
    "**Nombres:** \n",
    "José Antonio Contreras Peña y Jesús Sebastian Gonzalez Ortiz \n",
    "\n",
    "**Fecha:** 14 de octubre del 2021.\n",
    "\n",
    "**Expediente** : 721860 y 721621.\n",
    "\n",
    "**Profesor:** Oscar David Jaramillo Zuluaga.\n",
    "\n",
    "**Enlace Github:** https://github.com/Jancope/ProyectoModulo1\n",
    "\n",
    "## Definición de Proyecto  Clase: 12"
   ]
  },
  {
   "cell_type": "markdown",
   "metadata": {},
   "source": [
    "# Tema: *Análisis de aplicantes a tarjetas de crédito*"
   ]
  },
  {
   "cell_type": "markdown",
   "metadata": {},
   "source": [
    "### Objetivos\n",
    "- Determinar el panorama a futuro sobre la aplicación a tarjetas de crédito.\n",
    "\n",
    "    ### 1.1 Objetivo general\n",
    "    - Analizar el perfil de las personas que aplican a una tarjeta de crédito y analizar sus variables correspondientes para posteriormente hacer simulaciones a futuro.\n",
    "    \n",
    "    ### 1.2 Objetivos específicos\n",
    "    - Analizar aplicantes para ver si son buenos o malos aspirantes a tarjetas de crédito.\n",
    "    - Seccionar por niveles a los aplicantes de tarjetas de crédito.\n",
    "    - Definir variables que seccionan el riesgo de pago de los aplicantes."
   ]
  },
  {
   "cell_type": "markdown",
   "metadata": {},
   "source": [
    "### Definición del problema\n",
    "\n",
    "<img style=\"float: right; margin: 10px 10px 15px 15px;\" src=\"https://fotos.perfil.com/2020/08/20/trim/1280/720/polemica-sobre-la-refinanciacion-de-las-tarjetas-de-credito-1004338.jpg\" width=\"350px\" height=\"700px\" />\n",
    "\n",
    "Las instituciones financieras se enfrentan a diversos riesgos al momento de otorgar créditos a sus clientes, en primera instancia se debe revisar que no tengan historial crediticio en su contra, posteriormente existen diversas variables a tomar en cuenta al aceptar o no la aplicación a una tarjeta de crédito a un posbile nuevo cliente.\n",
    "\n",
    "Las aplicaciones a tarjetas de crédito u otros diversas fuentes de crédito se deben analizar y contestar lo antes posible porque el otorgamiento de créditos es la principal fuente de una institución financiera, por lo tanto el proceso de selección debe ser preciso y eficaz en su filtración de datos.\n",
    "\n",
    "A partir de datos importantes o principales de la vida, ya sea, personal (familiar) y financiera (ingresos) de dichos aplicantes se debe de poder contestar acertadamente si es una persona que puede pagar dichos créditos o en su defecto no, este filtrado de información es quien decide los potenciales candidatos a ser aceptados a una tarjeta de crédito o no.\n",
    "\n",
    "En dicha base de datos podemos encontrar diversas variables y datos de los aplicantes de los cuales se debe elegir los rangos y niveles de los aplicantes si son o no potenciales buenos clientes que puedan pagar los créditos otorgados.\n",
    "\n",
    "Se analizarán diversos factores que pueden influir en el futuro pago o no pago del otorgado crédito, por lo cual se debe preveer cuáles clientes son factibles otorgarles dichos crédito y a cuales denergarles su aplicación a un crédito.\n",
    "<img style=\"float: right; margin: 10px 10px 15px 15px;\" src=\"https://www.busconomico.us/static/images/blog/featured/requisitos-prestamo-personal-usa.jpg\" width=\"350px\" height=\"700px\" />\n",
    "\n"
   ]
  },
  {
   "cell_type": "markdown",
   "metadata": {},
   "source": [
    "### Nodos\n",
    "- Simular el nivel de respuesta ante el pago de créditos dados a los usuarios de tarjetas de crédito.\n",
    "\n",
    "### Variables\n",
    "- Las variables más importantes para la recaudación de datos y se van a tomar en cuenta son: Annual income, Income category, Property y Education level. "
   ]
  },
  {
   "cell_type": "markdown",
   "metadata": {},
   "source": [
    "### Hipótesis y suspuestos\n",
    "- Los usuarios que sean aceptados a la aplicación van a cumplir con el pago del crédito otorgado.\n",
    "- Suponer que los datos se van a mantener estáticos en el proceso de aplicación de la tarjeta"
   ]
  },
  {
   "cell_type": "markdown",
   "metadata": {},
   "source": [
    "### Obtención de base de datos\n",
    "\n",
    "https://www.kaggle.com/rikdifos/credit-card-approval-prediction"
   ]
  }
 ],
 "metadata": {
  "kernelspec": {
   "display_name": "Python 3",
   "language": "python",
   "name": "python3"
  },
  "language_info": {
   "codemirror_mode": {
    "name": "ipython",
    "version": 3
   },
   "file_extension": ".py",
   "mimetype": "text/x-python",
   "name": "python",
   "nbconvert_exporter": "python",
   "pygments_lexer": "ipython3",
   "version": "3.8.8"
  }
 },
 "nbformat": 4,
 "nbformat_minor": 2
}
