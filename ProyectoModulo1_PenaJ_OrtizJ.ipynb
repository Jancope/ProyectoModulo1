{
 "cells": [
  {
   "cell_type": "markdown",
   "metadata": {},
   "source": [
    "<img style=\"float: left; margin: 30px 15px 15px 15px;\" src=\"https://pngimage.net/wp-content/uploads/2018/06/logo-iteso-png-5.png\" width=\"300\" height=\"500\" /> \n",
    "    \n",
    "    \n",
    "## <font color='navy'> SIMULACIÓN DE PROCESOS FINANCIEROS   \n",
    "\n",
    "**Nombres:** \n",
    "José Antonio Contreras Peña y Jesús Sebastian Gonzalez Ortiz \n",
    "\n",
    "**Fecha:** 14 de octubre del 2021.\n",
    "\n",
    "**Expediente** : 721860 y 721621.\n",
    "\n",
    "**Profesor:** Oscar David Jaramillo Zuluaga.\n",
    "\n",
    "**Enlace Github:** https://github.com/Jancope/ProyectoModulo1\n",
    "\n",
    "## Definición de Proyecto  Clase: 12"
   ]
  },
  {
   "cell_type": "markdown",
   "metadata": {},
   "source": [
    "# Tema: *Simulación de casos de feminicidios en México a 6 meses*"
   ]
  },
  {
   "cell_type": "markdown",
   "metadata": {},
   "source": [
    "### Obejetivos\n",
    "- En la actualidad el tema de los feminicidios ha venido tomando cada vez más impacto y realizar un proyecto en base a los datos que existen en México puede ayudar a dar una idea sobre el contexto del país y la problemática.\n",
    "- Consultar datos confiables es de vital importancia para la simulación del problema, por lo que el inegi será la fuente de información.\n",
    "\n",
    "    ### 1.1 Objetivo general\n",
    "    - Simular escenarios con el apoyo de datos reales para poder hacer simulaciones y saber la tendencia de la problemática social.\n",
    "    \n",
    "    ### 1.2 Objetivos específicos\n",
    "    - Simular y mostrar la cantidad de casos de feminicidios a 6 meses en México.\n",
    "    - Saber la tendencia de la problemática y hacia a donde se dirije."
   ]
  },
  {
   "cell_type": "markdown",
   "metadata": {},
   "source": [
    "### Definición del problema\n",
    "\n",
    "<img style=\"float: right; margin: 10px 10px 15px 15px;\" src=\"https://www.radioformula.com.mx/wp-content/uploads/2020/02/feminicidios_20200217_.jpg\" width=\"350px\" height=\"700px\" />\n",
    "\n",
    "En la actualidad existen muchas problemáticas sociales que nos afectan a todos como sociedad, en los últimos años ha estado teniendo mucho auge el tema del movimiento feminista, uno de los problemas por el cuál se menifiesta la sociedad es por la problemática ya mencionada de los feminicidios que han habido durante los últimos años en el país, que por definición es el asesinato de una mujer por el hecho de serlo.\n",
    "\n",
    "En nuestro día a día ya formó parte de la cotidianidad el abrir los medios de comunicación y redes sociales y ver amigos y familiares desesperados pidiendo información de una persona desaparecida. Tiempo atrás estas publicaciones no eran tan comunes como lo es hoy en día y eso es un dato alarmante porque no se esta hablando de cualquier cosa sino que son vidas humanas.\n",
    "\n",
    "<img style=\"float: right; margin: 10px 10px 15px 15px;\" src=\"https://i.blogs.es/9c933b/feminicidios/1366_2000.jpg\" width=\"350px\" height=\"700px\" />\n",
    "\n",
    "La relevancia del tema al día de hoy es grande y sigue creciendo, al menos en los primeros 5 meses en lo que va este año 2021 ha habido un aumento de casos de feminicidios en un 7.1% (Nota en referencias), son datos bastante tristes y a la vez necesarios de analizar a fondo para llegar a una solución para la problemática.\n",
    "\n",
    "\n",
    "\n",
    "\n",
    "Las simulaciones llevadas a cabo para la resolución del proyecto serán basadas en la información emitida por el mismo gobierno y los datos que proporcione el INEGI, la muestra analizada será de México y se tomarán hasta los datos más recientes que hay al momento de empezar con las simulaciones para más precisión.\n",
    "\n",
    "Con el análisis que generemos a partir de las simulaciones hechas podremos deducir la tendencia general que tiene esta problemática y poder hacer conclusiones al respecto, si es culpa del gobierno por falta de seguridad, crisis económicas causadas por la pandemia, etc."
   ]
  },
  {
   "cell_type": "code",
   "execution_count": null,
   "metadata": {},
   "outputs": [],
   "source": []
  },
  {
   "cell_type": "markdown",
   "metadata": {},
   "source": [
    "### Referencias\n",
    "- https://elpais.com/mexico/2021-06-28/los-feminicidios-en-mexico-aumentan-un-71-en-los-cinco-primeros-meses-de-2021.html"
   ]
  }
 ],
 "metadata": {
  "kernelspec": {
   "display_name": "Python 3",
   "language": "python",
   "name": "python3"
  },
  "language_info": {
   "codemirror_mode": {
    "name": "ipython",
    "version": 3
   },
   "file_extension": ".py",
   "mimetype": "text/x-python",
   "name": "python",
   "nbconvert_exporter": "python",
   "pygments_lexer": "ipython3",
   "version": "3.8.8"
  }
 },
 "nbformat": 4,
 "nbformat_minor": 2
}
